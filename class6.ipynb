{
 "cells": [
  {
   "cell_type": "code",
   "execution_count": 1,
   "metadata": {},
   "outputs": [
    {
     "name": "stdout",
     "output_type": "stream",
     "text": [
      "Hello, what's your name!\n",
      "Hi, Hassan! Thanks for sharing your favorite numbers.\n",
      "Enter three favorite numbers:\n"
     ]
    }
   ],
   "source": [
    "\n",
    "print(\"Hello, what's your name!\")\n",
    "name = input(\"What's your name? \")\n",
    "print(f\"Hi, {name}! Thanks for sharing your favorite numbers.\")\n",
    "\n",
    "print(\"Enter three favorite numbers:\")\n",
    "\n",
    "first_number = int(input(\"Enter your first favorite number: \"))\n",
    "second_number = int(input(\"Enter your second favorite number: \"))\n",
    "third_number = int(input(\"Enter your third favorite number: \"))\n",
    "\n",
    "numbers = [first_number, second_number, third_number]"
   ]
  },
  {
   "cell_type": "code",
   "execution_count": 2,
   "metadata": {},
   "outputs": [
    {
     "name": "stdout",
     "output_type": "stream",
     "text": [
      "3 is an odd number.\n",
      "4 is an even number.\n",
      "5 is an odd number.\n",
      "\n",
      "Here are your favorite numbers and their squares:\n"
     ]
    }
   ],
   "source": [
    "# Create a list of tuples even or odd\n",
    "\n",
    "check_list_even_odd = []\n",
    "for number in numbers :\n",
    "    if number % 2 == 0:\n",
    "        check_list_even_odd.append((number, \"even\"))\n",
    "    else:\n",
    "        check_list_even_odd.append((number, \"odd\"))\n",
    "        \n",
    "# Print the even/odd\n",
    "for number, status in check_list_even_odd:\n",
    "    print(f\"{number} is an {status} number.\")\n",
    "\n",
    "# squares\n",
    "squares_list = []\n",
    "for number in numbers:\n",
    "    squares_list.append((number, number ** 2))\n",
    "\n",
    "# Print squares\n",
    "print(\"\\nHere are your favorite numbers and their squares:\")"
   ]
  },
  {
   "cell_type": "code",
   "execution_count": 3,
   "metadata": {},
   "outputs": [
    {
     "name": "stdout",
     "output_type": "stream",
     "text": [
      "The square of 3 is 9.\n",
      "The square of 4 is 16.\n",
      "The square of 5 is 25.\n",
      "\n",
      "The sum of your numbers is 12.\n",
      "Great job exploring your numbers!\n",
      "The sum, 12, is not a prime number.\n"
     ]
    }
   ],
   "source": [
    "for number, square in squares_list:\n",
    "    print(f\"The square of {number} is {square}.\")\n",
    "\n",
    "total_sum = 0\n",
    "for number in numbers:\n",
    "    total_sum += number\n",
    "\n",
    "print(f\"\\nThe sum of your numbers is {total_sum}.\")\n",
    "\n",
    "print(\"Great job exploring your numbers!\")\n",
    "\n",
    "# Check the sum is a prime number\n",
    "is_prime = True\n",
    "if total_sum <= 1:\n",
    "    is_prime = False\n",
    "else:\n",
    "    if total_sum <= 3:\n",
    "        is_prime = True\n",
    "    else:\n",
    "        if total_sum % 2 == 0 or total_sum % 3 == 0:\n",
    "            is_prime = False\n",
    "        else:\n",
    "            # Use a for loop to check divisibility\n",
    "            is_prime = True\n",
    "            for i in range(5, int(total_sum**0.5) + 1, 6):\n",
    "                if total_sum % i == 0 or total_sum % (i + 2) == 0:\n",
    "                    is_prime = False\n",
    "                    break\n",
    "\n",
    "if is_prime:\n",
    "    print(f\"The sum, {total_sum}, is a prime number!\")\n",
    "else:\n",
    "    print(f\"The sum, {total_sum}, is not a prime number.\")\n"
   ]
  }
 ],
 "metadata": {
  "kernelspec": {
   "display_name": "Python 3",
   "language": "python",
   "name": "python3"
  },
  "language_info": {
   "codemirror_mode": {
    "name": "ipython",
    "version": 3
   },
   "file_extension": ".py",
   "mimetype": "text/x-python",
   "name": "python",
   "nbconvert_exporter": "python",
   "pygments_lexer": "ipython3",
   "version": "3.12.4"
  }
 },
 "nbformat": 4,
 "nbformat_minor": 2
}
